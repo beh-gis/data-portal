{
 "metadata": {
  "name": "",
  "signature": "sha256:20c252a1ac7d805f37498966b1b3cdcaa27463173869e8eff9aa9ccfc80bf4dc"
 },
 "nbformat": 3,
 "nbformat_minor": 0,
 "worksheets": [
  {
   "cells": [
    {
     "cell_type": "code",
     "collapsed": false,
     "input": [
      "import pandas as pd\n",
      "import os\n",
      "\n",
      "pd.options.display.max_columns = 5200\n",
      "pd.options.display.max_rows    = 5200\n",
      "\n",
      "wd = '/Users/danielmsheehan/GitHub/data-portal/tasks/201506_v1_data_creation/data/'\n",
      "wi = wd + 'input/'\n",
      "wp = wd + 'processing/'\n",
      "wo = wd + 'output/'"
     ],
     "language": "python",
     "metadata": {},
     "outputs": [],
     "prompt_number": 3
    },
    {
     "cell_type": "code",
     "collapsed": false,
     "input": [
      "#For 2010\n",
      "\n",
      "walk = wi + 'variables/walk/beh_walk.csv'\n",
      "tree = wi + 'variables/tree_canopy/beh_treecanopy.csv'\n",
      "cens = wi + 'variables/census/beh_mhhi.csv'\n",
      "msm  = wi + 'variables/msm/msm_final_tracts_only.csv'\n",
      "alc  = wi + 'variables/alcohol/beh_alcohol.csv'\n",
      "\n",
      "dfw = pd.read_csv(walk)\n",
      "dft = pd.read_csv(tree)\n",
      "dfc = pd.read_csv(cens)\n",
      "dfm = pd.read_csv(msm)\n",
      "dfa = pd.read_csv(alc)\n",
      "\n",
      "df = dfw.merge(dft, on='geoid', how='left').merge(dfc, on='geoid', how='left').merge(dfm, on='geoid', how='left').merge(dfa, on='geoid', how='left')\n",
      "\n",
      "df = df.rename(columns=lambda x: x.replace('t10_', 't10'))\n",
      "df = df.rename(columns=lambda x: x.replace('cttree', 't10tree'))\n",
      "df = df.rename(columns=lambda x: x.replace('057001', 't10mhhi'))\n",
      "df = df.rename(columns=lambda x: x.replace('pct', 'pc'))\n",
      "df = df.rename(columns=lambda x: x.replace('ct', 't10'))\n",
      "df = df.rename(columns=lambda x: x.replace('medhhinc','mhhi'))\n",
      "df = df.rename(columns=lambda x: x.replace('acs',''))\n",
      "df = df.rename(columns=lambda x: x.replace('t10walk_c','t10walkc'))\n",
      "df = df.rename(columns=lambda x: x.replace('alcohol','alc'))\n",
      "df = df.rename(columns=lambda x: x.replace('class','cls'))\n",
      "df = df.rename(columns=lambda x: x.replace('t1010','t10'))\n",
      "df = df.rename(columns=lambda x: x.replace('cdeligibil','t10alcelig'))\n",
      "\n",
      "df = df[['geoid','t10km2','t10lndkm2','t10cnt','t10resdn1','t10intden','t10entrpy','t10rtlfar','t10sub07d','t10walk','t10walkc','t10treepc','t10mhhi','t10totpop','t10cnthomicide20032011','t10ratehomicid20032011','t10pedkil19952013','t10pedinj19952013','t10bikkil19952013','t10bikinj19952013','t10cntcafeall','t10pcage65up','t10pcpov','t10pcblack','t10pcasian','t10pcunemploy','t10subwaystopdoittcount','t10bikertlenall','t10alcelig','t10alccl1','t10alccl2','t10alccl3','t10alccl4','t10alccl5','t10alcall']]                                                                                                                  \n",
      "\n",
      "df = df.rename(columns=lambda x: x.replace('t10cnthomicide20032011','t10muc0311'))\n",
      "df = df.rename(columns=lambda x: x.replace('t10ratehomicid20032011','t10mur0311'))\n",
      "df = df.rename(columns=lambda x: x.replace('t10pedkil19952013','t10pek9513'))\n",
      "df = df.rename(columns=lambda x: x.replace('t10pedinj19952013','t10pei9513'))\n",
      "df = df.rename(columns=lambda x: x.replace('t10bikkil19952013','t10bik9513'))\n",
      "df = df.rename(columns=lambda x: x.replace('t10bikinj19952013','t10bii9513'))\n",
      "df = df.rename(columns=lambda x: x.replace('t10cntcafeall','t10cntcafe'))\n",
      "df = df.rename(columns=lambda x: x.replace('t10pcage65up','t10pcag65u'))\n",
      "df = df.rename(columns=lambda x: x.replace('t10pcunemploy','t10pcunemp'))\n",
      "df = df.rename(columns=lambda x: x.replace('t10subwaystopdoittcount','t10subctdo'))\n",
      "df = df.rename(columns=lambda x: x.replace('t10bikertlenall','t10birtlen'))\n",
      "\n",
      "df['t10popdens'] = df['t10totpop'] / df['t10lndkm2']\n",
      "              \n",
      "#df.to_csv(wp+'ct2010/t10.csv', index=False)\n",
      "df.to_csv(wp+'ct2010/myjoincsv.csv', index=False)\n",
      "\n",
      "df.head(5)"
     ],
     "language": "python",
     "metadata": {},
     "outputs": [
      {
       "ename": "KeyError",
       "evalue": "\"['t1010alccl1' 't1010alccl2' 't1010alccl3' 't1010alccl4' 't1010alccl5'\\n 't1010alcall'] not in index\"",
       "output_type": "pyerr",
       "traceback": [
        "\u001b[0;31m---------------------------------------------------------------------------\u001b[0m\n\u001b[0;31mKeyError\u001b[0m                                  Traceback (most recent call last)",
        "\u001b[0;32m<ipython-input-7-d429422d06c7>\u001b[0m in \u001b[0;36m<module>\u001b[0;34m()\u001b[0m\n\u001b[1;32m     28\u001b[0m \u001b[0mdf\u001b[0m \u001b[0;34m=\u001b[0m \u001b[0mdf\u001b[0m\u001b[0;34m.\u001b[0m\u001b[0mrename\u001b[0m\u001b[0;34m(\u001b[0m\u001b[0mcolumns\u001b[0m\u001b[0;34m=\u001b[0m\u001b[0;32mlambda\u001b[0m \u001b[0mx\u001b[0m\u001b[0;34m:\u001b[0m \u001b[0mx\u001b[0m\u001b[0;34m.\u001b[0m\u001b[0mreplace\u001b[0m\u001b[0;34m(\u001b[0m\u001b[0;34m'cdeligibil'\u001b[0m\u001b[0;34m,\u001b[0m\u001b[0;34m't10alcelig'\u001b[0m\u001b[0;34m)\u001b[0m\u001b[0;34m)\u001b[0m\u001b[0;34m\u001b[0m\u001b[0m\n\u001b[1;32m     29\u001b[0m \u001b[0;34m\u001b[0m\u001b[0m\n\u001b[0;32m---> 30\u001b[0;31m \u001b[0mdf\u001b[0m \u001b[0;34m=\u001b[0m \u001b[0mdf\u001b[0m\u001b[0;34m[\u001b[0m\u001b[0;34m[\u001b[0m\u001b[0;34m'geoid'\u001b[0m\u001b[0;34m,\u001b[0m\u001b[0;34m't10km2'\u001b[0m\u001b[0;34m,\u001b[0m\u001b[0;34m't10lndkm2'\u001b[0m\u001b[0;34m,\u001b[0m\u001b[0;34m't10cnt'\u001b[0m\u001b[0;34m,\u001b[0m\u001b[0;34m't10resdn1'\u001b[0m\u001b[0;34m,\u001b[0m\u001b[0;34m't10intden'\u001b[0m\u001b[0;34m,\u001b[0m\u001b[0;34m't10entrpy'\u001b[0m\u001b[0;34m,\u001b[0m\u001b[0;34m't10rtlfar'\u001b[0m\u001b[0;34m,\u001b[0m\u001b[0;34m't10sub07d'\u001b[0m\u001b[0;34m,\u001b[0m\u001b[0;34m't10walk'\u001b[0m\u001b[0;34m,\u001b[0m\u001b[0;34m't10walkc'\u001b[0m\u001b[0;34m,\u001b[0m\u001b[0;34m't10treepc'\u001b[0m\u001b[0;34m,\u001b[0m\u001b[0;34m't10mhhi'\u001b[0m\u001b[0;34m,\u001b[0m\u001b[0;34m't10totpop'\u001b[0m\u001b[0;34m,\u001b[0m\u001b[0;34m't10cnthomicide20032011'\u001b[0m\u001b[0;34m,\u001b[0m\u001b[0;34m't10ratehomicid20032011'\u001b[0m\u001b[0;34m,\u001b[0m\u001b[0;34m't10pedkil19952013'\u001b[0m\u001b[0;34m,\u001b[0m\u001b[0;34m't10pedinj19952013'\u001b[0m\u001b[0;34m,\u001b[0m\u001b[0;34m't10bikkil19952013'\u001b[0m\u001b[0;34m,\u001b[0m\u001b[0;34m't10bikinj19952013'\u001b[0m\u001b[0;34m,\u001b[0m\u001b[0;34m't10cntcafeall'\u001b[0m\u001b[0;34m,\u001b[0m\u001b[0;34m't10pcage65up'\u001b[0m\u001b[0;34m,\u001b[0m\u001b[0;34m't10pcpov'\u001b[0m\u001b[0;34m,\u001b[0m\u001b[0;34m't10pcblack'\u001b[0m\u001b[0;34m,\u001b[0m\u001b[0;34m't10pcasian'\u001b[0m\u001b[0;34m,\u001b[0m\u001b[0;34m't10pcunemploy'\u001b[0m\u001b[0;34m,\u001b[0m\u001b[0;34m't10subwaystopdoittcount'\u001b[0m\u001b[0;34m,\u001b[0m\u001b[0;34m't10bikertlenall'\u001b[0m\u001b[0;34m,\u001b[0m\u001b[0;34m't10alcelig'\u001b[0m\u001b[0;34m,\u001b[0m\u001b[0;34m't1010alccl1'\u001b[0m\u001b[0;34m,\u001b[0m\u001b[0;34m't1010alccl2'\u001b[0m\u001b[0;34m,\u001b[0m\u001b[0;34m't1010alccl3'\u001b[0m\u001b[0;34m,\u001b[0m\u001b[0;34m't1010alccl4'\u001b[0m\u001b[0;34m,\u001b[0m\u001b[0;34m't1010alccl5'\u001b[0m\u001b[0;34m,\u001b[0m\u001b[0;34m't1010alcall'\u001b[0m\u001b[0;34m]\u001b[0m\u001b[0;34m]\u001b[0m\u001b[0;34m\u001b[0m\u001b[0m\n\u001b[0m\u001b[1;32m     31\u001b[0m \u001b[0;34m\u001b[0m\u001b[0m\n\u001b[1;32m     32\u001b[0m \u001b[0mdf\u001b[0m \u001b[0;34m=\u001b[0m \u001b[0mdf\u001b[0m\u001b[0;34m.\u001b[0m\u001b[0mrename\u001b[0m\u001b[0;34m(\u001b[0m\u001b[0mcolumns\u001b[0m\u001b[0;34m=\u001b[0m\u001b[0;32mlambda\u001b[0m \u001b[0mx\u001b[0m\u001b[0;34m:\u001b[0m \u001b[0mx\u001b[0m\u001b[0;34m.\u001b[0m\u001b[0mreplace\u001b[0m\u001b[0;34m(\u001b[0m\u001b[0;34m't10cnthomicide20032011'\u001b[0m\u001b[0;34m,\u001b[0m\u001b[0;34m't10muc0311'\u001b[0m\u001b[0;34m)\u001b[0m\u001b[0;34m)\u001b[0m\u001b[0;34m\u001b[0m\u001b[0m\n",
        "\u001b[0;32m/usr/local/lib/python2.7/site-packages/pandas/core/frame.pyc\u001b[0m in \u001b[0;36m__getitem__\u001b[0;34m(self, key)\u001b[0m\n\u001b[1;32m   1779\u001b[0m         \u001b[0;32mif\u001b[0m \u001b[0misinstance\u001b[0m\u001b[0;34m(\u001b[0m\u001b[0mkey\u001b[0m\u001b[0;34m,\u001b[0m \u001b[0;34m(\u001b[0m\u001b[0mSeries\u001b[0m\u001b[0;34m,\u001b[0m \u001b[0mnp\u001b[0m\u001b[0;34m.\u001b[0m\u001b[0mndarray\u001b[0m\u001b[0;34m,\u001b[0m \u001b[0mIndex\u001b[0m\u001b[0;34m,\u001b[0m \u001b[0mlist\u001b[0m\u001b[0;34m)\u001b[0m\u001b[0;34m)\u001b[0m\u001b[0;34m:\u001b[0m\u001b[0;34m\u001b[0m\u001b[0m\n\u001b[1;32m   1780\u001b[0m             \u001b[0;31m# either boolean or fancy integer index\u001b[0m\u001b[0;34m\u001b[0m\u001b[0;34m\u001b[0m\u001b[0m\n\u001b[0;32m-> 1781\u001b[0;31m             \u001b[0;32mreturn\u001b[0m \u001b[0mself\u001b[0m\u001b[0;34m.\u001b[0m\u001b[0m_getitem_array\u001b[0m\u001b[0;34m(\u001b[0m\u001b[0mkey\u001b[0m\u001b[0;34m)\u001b[0m\u001b[0;34m\u001b[0m\u001b[0m\n\u001b[0m\u001b[1;32m   1782\u001b[0m         \u001b[0;32melif\u001b[0m \u001b[0misinstance\u001b[0m\u001b[0;34m(\u001b[0m\u001b[0mkey\u001b[0m\u001b[0;34m,\u001b[0m \u001b[0mDataFrame\u001b[0m\u001b[0;34m)\u001b[0m\u001b[0;34m:\u001b[0m\u001b[0;34m\u001b[0m\u001b[0m\n\u001b[1;32m   1783\u001b[0m             \u001b[0;32mreturn\u001b[0m \u001b[0mself\u001b[0m\u001b[0;34m.\u001b[0m\u001b[0m_getitem_frame\u001b[0m\u001b[0;34m(\u001b[0m\u001b[0mkey\u001b[0m\u001b[0;34m)\u001b[0m\u001b[0;34m\u001b[0m\u001b[0m\n",
        "\u001b[0;32m/usr/local/lib/python2.7/site-packages/pandas/core/frame.pyc\u001b[0m in \u001b[0;36m_getitem_array\u001b[0;34m(self, key)\u001b[0m\n\u001b[1;32m   1823\u001b[0m             \u001b[0;32mreturn\u001b[0m \u001b[0mself\u001b[0m\u001b[0;34m.\u001b[0m\u001b[0mtake\u001b[0m\u001b[0;34m(\u001b[0m\u001b[0mindexer\u001b[0m\u001b[0;34m,\u001b[0m \u001b[0maxis\u001b[0m\u001b[0;34m=\u001b[0m\u001b[0;36m0\u001b[0m\u001b[0;34m,\u001b[0m \u001b[0mconvert\u001b[0m\u001b[0;34m=\u001b[0m\u001b[0mFalse\u001b[0m\u001b[0;34m)\u001b[0m\u001b[0;34m\u001b[0m\u001b[0m\n\u001b[1;32m   1824\u001b[0m         \u001b[0;32melse\u001b[0m\u001b[0;34m:\u001b[0m\u001b[0;34m\u001b[0m\u001b[0m\n\u001b[0;32m-> 1825\u001b[0;31m             \u001b[0mindexer\u001b[0m \u001b[0;34m=\u001b[0m \u001b[0mself\u001b[0m\u001b[0;34m.\u001b[0m\u001b[0mix\u001b[0m\u001b[0;34m.\u001b[0m\u001b[0m_convert_to_indexer\u001b[0m\u001b[0;34m(\u001b[0m\u001b[0mkey\u001b[0m\u001b[0;34m,\u001b[0m \u001b[0maxis\u001b[0m\u001b[0;34m=\u001b[0m\u001b[0;36m1\u001b[0m\u001b[0;34m)\u001b[0m\u001b[0;34m\u001b[0m\u001b[0m\n\u001b[0m\u001b[1;32m   1826\u001b[0m             \u001b[0;32mreturn\u001b[0m \u001b[0mself\u001b[0m\u001b[0;34m.\u001b[0m\u001b[0mtake\u001b[0m\u001b[0;34m(\u001b[0m\u001b[0mindexer\u001b[0m\u001b[0;34m,\u001b[0m \u001b[0maxis\u001b[0m\u001b[0;34m=\u001b[0m\u001b[0;36m1\u001b[0m\u001b[0;34m,\u001b[0m \u001b[0mconvert\u001b[0m\u001b[0;34m=\u001b[0m\u001b[0mTrue\u001b[0m\u001b[0;34m)\u001b[0m\u001b[0;34m\u001b[0m\u001b[0m\n\u001b[1;32m   1827\u001b[0m \u001b[0;34m\u001b[0m\u001b[0m\n",
        "\u001b[0;32m/usr/local/lib/python2.7/site-packages/pandas/core/indexing.pyc\u001b[0m in \u001b[0;36m_convert_to_indexer\u001b[0;34m(self, obj, axis, is_setter)\u001b[0m\n\u001b[1;32m   1138\u001b[0m                 \u001b[0mmask\u001b[0m \u001b[0;34m=\u001b[0m \u001b[0mcheck\u001b[0m \u001b[0;34m==\u001b[0m \u001b[0;34m-\u001b[0m\u001b[0;36m1\u001b[0m\u001b[0;34m\u001b[0m\u001b[0m\n\u001b[1;32m   1139\u001b[0m                 \u001b[0;32mif\u001b[0m \u001b[0mmask\u001b[0m\u001b[0;34m.\u001b[0m\u001b[0many\u001b[0m\u001b[0;34m(\u001b[0m\u001b[0;34m)\u001b[0m\u001b[0;34m:\u001b[0m\u001b[0;34m\u001b[0m\u001b[0m\n\u001b[0;32m-> 1140\u001b[0;31m                     \u001b[0;32mraise\u001b[0m \u001b[0mKeyError\u001b[0m\u001b[0;34m(\u001b[0m\u001b[0;34m'%s not in index'\u001b[0m \u001b[0;34m%\u001b[0m \u001b[0mobjarr\u001b[0m\u001b[0;34m[\u001b[0m\u001b[0mmask\u001b[0m\u001b[0;34m]\u001b[0m\u001b[0;34m)\u001b[0m\u001b[0;34m\u001b[0m\u001b[0m\n\u001b[0m\u001b[1;32m   1141\u001b[0m \u001b[0;34m\u001b[0m\u001b[0m\n\u001b[1;32m   1142\u001b[0m                 \u001b[0;32mreturn\u001b[0m \u001b[0m_values_from_object\u001b[0m\u001b[0;34m(\u001b[0m\u001b[0mindexer\u001b[0m\u001b[0;34m)\u001b[0m\u001b[0;34m\u001b[0m\u001b[0m\n",
        "\u001b[0;31mKeyError\u001b[0m: \"['t1010alccl1' 't1010alccl2' 't1010alccl3' 't1010alccl4' 't1010alccl5'\\n 't1010alcall'] not in index\""
       ]
      }
     ],
     "prompt_number": 7
    },
    {
     "cell_type": "code",
     "collapsed": false,
     "input": [
      "import shutil\n",
      "\n",
      "inDir = wd+'input/geo/nyct2010/'\n",
      "ouDir = wd+'processing/ct2010/'\n",
      "\n",
      "extList = ['.cpg','.dbf','.prj','.shp','.shx']\n",
      "infname   = 'nyct2010'\n",
      "#oufname   = 'ct10'\n",
      "oufname   = 'myjoinshp'\n",
      "\n",
      "for i in extList:\n",
      "    shutil.copy2(inDir+infname+i,ouDir+oufname+i)"
     ],
     "language": "python",
     "metadata": {},
     "outputs": [],
     "prompt_number": 14
    },
    {
     "cell_type": "code",
     "collapsed": false,
     "input": [
      "#Delete stuff from processing folder\n",
      "try:\n",
      "    os.remove(wd+'processing/ct2010/myjoindb.db')\n",
      "except:\n",
      "    print 'file aint ther.'\n",
      "    \n",
      "try:\n",
      "    os.remove(wd+'processing/ct2010/joined_output.dbf')\n",
      "    os.remove(wd+'processing/ct2010/joined_output.shp')\n",
      "    os.remove(wd+'processing/ct2010/joined_output.shx')\n",
      "except:\n",
      "    print 'file aint ther.'\n",
      "    "
     ],
     "language": "python",
     "metadata": {},
     "outputs": [],
     "prompt_number": 18
    },
    {
     "cell_type": "markdown",
     "metadata": {},
     "source": [
      "    $ cd GitHub/data-portal/tasks/201506_v1_data_creation/data/processing/ct2010\n",
      "   \n",
      "    $ csvsql --db sqlite:///myjoindb.db --insert myjoincsv.csv\n",
      "    $ ogr2ogr -append -f \"SQLite\" myjoindb.db myjoinshp.shp\n",
      "\n",
      "Then join everything and create a shapefile out of it:\n",
      "\n",
      "    $ ogr2ogr -f \"ESRI Shapefile\" -sql \"SELECT csv.*, shp.* FROM myjoinshp shp INNER JOIN myjoincsv csv ON csv.geoid = shp.geoid\" joined_output.shp myjoindb.db"
     ]
    },
    {
     "cell_type": "code",
     "collapsed": false,
     "input": [
      "import shutil\n",
      "\n",
      "inDir = wd+'processing/ct2010/'\n",
      "ouDir = wd+'output/ct2010/'\n",
      "\n",
      "extList = ['.dbf','.shp','.shx']\n",
      "infname   = 'joined_output'\n",
      "oufname   = 'ct10'\n",
      "\n",
      "for i in extList:\n",
      "    shutil.copy2(inDir+infname+i,ouDir+oufname+i)\n",
      "\n",
      "inPrj = wd+'input/wgs84_prj/4326.prj'\n",
      "\n",
      "shutil.copy2(inPrj,ouDir+oufname+'.prj')"
     ],
     "language": "python",
     "metadata": {},
     "outputs": [],
     "prompt_number": 19
    },
    {
     "cell_type": "code",
     "collapsed": false,
     "input": [
      "import shutil\n",
      "\n",
      "inDir = wd+'output/ct2010'\n",
      "\n",
      "shutil.make_archive(inDir, \"zip\", inDir)"
     ],
     "language": "python",
     "metadata": {},
     "outputs": [
      {
       "metadata": {},
       "output_type": "pyout",
       "prompt_number": 20,
       "text": [
        "'/Users/danielmsheehan/GitHub/data-portal/tasks/201506_v1_data_creation/data/output/ct2010.zip'"
       ]
      }
     ],
     "prompt_number": 20
    },
    {
     "cell_type": "code",
     "collapsed": false,
     "input": [],
     "language": "python",
     "metadata": {},
     "outputs": []
    }
   ],
   "metadata": {}
  }
 ]
}