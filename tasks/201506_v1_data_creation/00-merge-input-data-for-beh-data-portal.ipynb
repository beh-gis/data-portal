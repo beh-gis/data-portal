{
 "metadata": {
  "name": "",
  "signature": "sha256:867bf21512a54138661e496efbac655aa2d9cdee32882a1205a702edba4fead7"
 },
 "nbformat": 3,
 "nbformat_minor": 0,
 "worksheets": [
  {
   "cells": [
    {
     "cell_type": "code",
     "collapsed": false,
     "input": [
      "import pandas as pd\n",
      "import os\n",
      "\n",
      "wd = '/Users/danielmsheehan/GitHub/data-portal/tasks/201506_v1_data_creation/data/'\n",
      "wi = wd + 'input/'\n",
      "wp = wd + 'processing/'\n",
      "wo = wd + 'output/'"
     ],
     "language": "python",
     "metadata": {},
     "outputs": [],
     "prompt_number": 1
    },
    {
     "cell_type": "code",
     "collapsed": false,
     "input": [
      "#For 2010\n",
      "\n",
      "walk = wi + 'variables/walk/beh_walk.csv'\n",
      "tree = wi + 'variables/tree_canopy/beh_treecanopy.csv'\n",
      "cens = wi + 'variables/census/beh_mhhi.csv'\n",
      "msm  = wi + 'variables/msm/msm_final_tracts_only.csv'\n",
      "\n",
      "dfw = pd.read_csv(walk)\n",
      "dft = pd.read_csv(tree)\n",
      "dfc = pd.read_csv(cens)\n",
      "dfm = pd.read_csv(msm)\n",
      "\n",
      "df = dfw.merge(dft, on='geoid', how='left').merge(dfc, on='geoid', how='left').merge(dfm, on='geoid', how='left')\n",
      "\n",
      "df = df.rename(columns=lambda x: x.replace('t10_', 't10'))\n",
      "df = df.rename(columns=lambda x: x.replace('cttree', 't10tree'))\n",
      "df = df.rename(columns=lambda x: x.replace('057001', 't10mhhi'))\n",
      "df = df.rename(columns=lambda x: x.replace('pct', 'pc'))\n",
      "df = df.rename(columns=lambda x: x.replace('ct', 't10'))\n",
      "df = df.rename(columns=lambda x: x.replace('medhhinc','mhhi'))\n",
      "df = df.rename(columns=lambda x: x.replace('acs',''))\n",
      "\n",
      "df = df[['geoid','t10km2','t10lndkm2','t10cnt','t10resdn1','t10intden','t10entrpy','t10rtlfar','t10sub07d','t10walk','t10walk_c','t10treepc','t10mhhi','t10totpop','t10cnthomicide20032011','t10ratehomicid20032011','t10pedkil19952013','t10pedinj19952013','t10bikkil19952013','t10bikinj19952013','t10cntcafeall','t10pcage65up','t10pcpov','t10pcblack','t10pcasian','t10pcunemploy','t10subwaystopdoittcount','t10bikertlenall']]                                                                                                                  \n",
      "\n",
      "df['t10popdens'] = df['t10totpop'] / df['t10lndkm2']\n",
      "              \n",
      "#df.to_csv(wp+'ct2010/t10.csv', index=False)\n",
      "df.to_csv(wp+'ct2010/myjoincsv.csv', index=False)\n",
      "\n",
      "df.head(5)"
     ],
     "language": "python",
     "metadata": {},
     "outputs": [
      {
       "html": [
        "<pre>\n",
        "&lt;class 'pandas.core.frame.DataFrame'&gt;\n",
        "Int64Index: 5 entries, 0 to 4\n",
        "Data columns (total 29 columns):\n",
        "geoid                      5  non-null values\n",
        "t10km2                     5  non-null values\n",
        "t10lndkm2                  5  non-null values\n",
        "t10cnt                     5  non-null values\n",
        "t10resdn1                  5  non-null values\n",
        "t10intden                  5  non-null values\n",
        "t10entrpy                  5  non-null values\n",
        "t10rtlfar                  5  non-null values\n",
        "t10sub07d                  5  non-null values\n",
        "t10walk                    5  non-null values\n",
        "t10walk_c                  5  non-null values\n",
        "t10treepc                  5  non-null values\n",
        "t10mhhi                    5  non-null values\n",
        "t10totpop                  5  non-null values\n",
        "t10cnthomicide20032011     5  non-null values\n",
        "t10ratehomicid20032011     4  non-null values\n",
        "t10pedkil19952013          5  non-null values\n",
        "t10pedinj19952013          5  non-null values\n",
        "t10bikkil19952013          5  non-null values\n",
        "t10bikinj19952013          5  non-null values\n",
        "t10cntcafeall              5  non-null values\n",
        "t10pcage65up               5  non-null values\n",
        "t10pcpov                   5  non-null values\n",
        "t10pcblack                 5  non-null values\n",
        "t10pcasian                 5  non-null values\n",
        "t10pcunemploy              5  non-null values\n",
        "t10subwaystopdoittcount    5  non-null values\n",
        "t10bikertlenall            5  non-null values\n",
        "t10popdens                 5  non-null values\n",
        "dtypes: float64(26), int64(3)\n",
        "</pre>"
       ],
       "metadata": {},
       "output_type": "pyout",
       "prompt_number": 4,
       "text": [
        "<class 'pandas.core.frame.DataFrame'>\n",
        "Int64Index: 5 entries, 0 to 4\n",
        "Data columns (total 29 columns):\n",
        "geoid                      5  non-null values\n",
        "t10km2                     5  non-null values\n",
        "t10lndkm2                  5  non-null values\n",
        "t10cnt                     5  non-null values\n",
        "t10resdn1                  5  non-null values\n",
        "t10intden                  5  non-null values\n",
        "t10entrpy                  5  non-null values\n",
        "t10rtlfar                  5  non-null values\n",
        "t10sub07d                  5  non-null values\n",
        "t10walk                    5  non-null values\n",
        "t10walk_c                  5  non-null values\n",
        "t10treepc                  5  non-null values\n",
        "t10mhhi                    5  non-null values\n",
        "t10totpop                  5  non-null values\n",
        "t10cnthomicide20032011     5  non-null values\n",
        "t10ratehomicid20032011     4  non-null values\n",
        "t10pedkil19952013          5  non-null values\n",
        "t10pedinj19952013          5  non-null values\n",
        "t10bikkil19952013          5  non-null values\n",
        "t10bikinj19952013          5  non-null values\n",
        "t10cntcafeall              5  non-null values\n",
        "t10pcage65up               5  non-null values\n",
        "t10pcpov                   5  non-null values\n",
        "t10pcblack                 5  non-null values\n",
        "t10pcasian                 5  non-null values\n",
        "t10pcunemploy              5  non-null values\n",
        "t10subwaystopdoittcount    5  non-null values\n",
        "t10bikertlenall            5  non-null values\n",
        "t10popdens                 5  non-null values\n",
        "dtypes: float64(26), int64(3)"
       ]
      }
     ],
     "prompt_number": 4
    },
    {
     "cell_type": "code",
     "collapsed": false,
     "input": [
      "import shutil\n",
      "\n",
      "inDir = wd+'input/geo/nyct2010/'\n",
      "ouDir = wd+'processing/ct2010/'\n",
      "\n",
      "extList = ['.cpg','.dbf','.prj','.shp','.shx']\n",
      "infname   = 'nyct2010'\n",
      "#oufname   = 'ct10'\n",
      "oufname   = 'myjoinshp'\n",
      "\n",
      "for i in extList:\n",
      "    shutil.copy2(inDir+infname+i,ouDir+oufname+i)"
     ],
     "language": "python",
     "metadata": {},
     "outputs": [],
     "prompt_number": 5
    },
    {
     "cell_type": "code",
     "collapsed": false,
     "input": [
      "#Delete stuff from processing folder\n",
      "try:\n",
      "    os.remove(wd+'processing/ct2010/myjoindb.db')\n",
      "except:\n",
      "    print 'file aint ther.'"
     ],
     "language": "python",
     "metadata": {},
     "outputs": [
      {
       "output_type": "stream",
       "stream": "stdout",
       "text": [
        "file aint ther.\n"
       ]
      }
     ],
     "prompt_number": 6
    },
    {
     "cell_type": "markdown",
     "metadata": {},
     "source": [
      "    $ cd GitHub/data-portal/tasks/201506_v1_data_creation/data/processing/ct2010\n",
      "   \n",
      "    csvsql --db sqlite:///myjoindb.db --insert myjoincsv.csv\n",
      "    ogr2ogr -append -f \"SQLite\" myjoindb.db myjoinshp.shp\n",
      "\n",
      "Then join everything and create a shapefile out of it:\n",
      "\n",
      "    ogr2ogr -f \"ESRI Shapefile\" -sql \"SELECT csv.*, shp.* FROM myjoinshp shp INNER JOIN myjoincsv csv ON csv.geoid = shp.geoid\" joined_output.shp myjoindb.db"
     ]
    },
    {
     "cell_type": "code",
     "collapsed": false,
     "input": [
      "import shutil\n",
      "\n",
      "inDir = wd+'processing/ct2010/'\n",
      "ouDir = wd+'output/ct2010/'\n",
      "\n",
      "extList = ['.dbf','.shp','.shx']\n",
      "infname   = 'joined_output'\n",
      "oufname   = 'ct10'\n",
      "\n",
      "for i in extList:\n",
      "    shutil.copy2(inDir+infname+i,ouDir+oufname+i)\n",
      "\n",
      "inPrj = wd+'input/wgs84_prj/4326.prj'\n",
      "\n",
      "shutil.copy2(inPrj,ouDir+oufname+'.prj')"
     ],
     "language": "python",
     "metadata": {},
     "outputs": [],
     "prompt_number": 8
    },
    {
     "cell_type": "code",
     "collapsed": false,
     "input": [
      "import shutil\n",
      "\n",
      "inDir = wd+'output/ct2010'\n",
      "\n",
      "shutil.make_archive(inDir, \"zip\", inDir)"
     ],
     "language": "python",
     "metadata": {},
     "outputs": [
      {
       "metadata": {},
       "output_type": "pyout",
       "prompt_number": 10,
       "text": [
        "'/Users/danielmsheehan/GitHub/data-portal/tasks/201506_v1_data_creation/data/output/ct2010.zip'"
       ]
      }
     ],
     "prompt_number": 10
    },
    {
     "cell_type": "code",
     "collapsed": false,
     "input": [],
     "language": "python",
     "metadata": {},
     "outputs": []
    }
   ],
   "metadata": {}
  }
 ]
}