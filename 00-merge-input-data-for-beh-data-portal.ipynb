{
 "metadata": {
  "name": "",
  "signature": "sha256:0cd1a9d4f28cf1242c21b5cb1bfeb377b50eabd45b1b5159864d364ddf3473be"
 },
 "nbformat": 3,
 "nbformat_minor": 0,
 "worksheets": [
  {
   "cells": [
    {
     "cell_type": "code",
     "collapsed": false,
     "input": [
      "import pandas as pd\n",
      "\n",
      "\n",
      "\n"
     ],
     "language": "python",
     "metadata": {},
     "outputs": []
    },
    {
     "cell_type": "code",
     "collapsed": false,
     "input": [
      "#For 2010\n",
      "\n",
      "walk = \n",
      "tree = \n",
      "cens = \n",
      "\n",
      "\n",
      "\n"
     ],
     "language": "python",
     "metadata": {},
     "outputs": []
    }
   ],
   "metadata": {}
  }
 ]
}